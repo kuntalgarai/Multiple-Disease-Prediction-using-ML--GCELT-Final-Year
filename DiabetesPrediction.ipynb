{
  "nbformat": 4,
  "nbformat_minor": 0,
  "metadata": {
    "colab": {
      "provenance": []
    },
    "kernelspec": {
      "name": "python3",
      "display_name": "Python 3"
    },
    "language_info": {
      "name": "python"
    }
  },
  "cells": [
    {
      "cell_type": "markdown",
      "source": [
        "# **ENV Setup**\n"
      ],
      "metadata": {
        "id": "GYT3-2x3IvVp"
      }
    },
    {
      "cell_type": "code",
      "execution_count": null,
      "metadata": {
        "id": "zY8zQKpEIJaj",
        "colab": {
          "base_uri": "https://localhost:8080/"
        },
        "outputId": "57c44d8f-0719-41d8-f367-587a6956a83e"
      },
      "outputs": [
        {
          "output_type": "stream",
          "name": "stdout",
          "text": [
            "\u001b[2K     \u001b[90m━━━━━━━━━━━━━━━━━━━━━━━━━━━━━━━━━━━━━━━━\u001b[0m \u001b[32m13.3/13.3 MB\u001b[0m \u001b[31m18.9 MB/s\u001b[0m eta \u001b[36m0:00:00\u001b[0m\n",
            "\u001b[?25h"
          ]
        }
      ],
      "source": [
        "!rm -rf *\n",
        "!pip uninstall scikit-learn -y --quiet\n",
        "!pip install -U scikit-learn --quiet\n",
        "!pip install git+https://github.com/scikit-learn-contrib/imbalanced-learn.git@master > /dev/null 2>&1"
      ]
    },
    {
      "cell_type": "markdown",
      "source": [
        "# **Imports**"
      ],
      "metadata": {
        "id": "XBTssyRRI40X"
      }
    },
    {
      "cell_type": "code",
      "source": [
        "import pandas as pd\n",
        "import requests\n",
        "import math\n",
        "import random\n",
        "import numpy as np\n",
        "import json\n",
        "import pickle\n",
        "\n",
        "\n",
        "from os import path,getcwd,makedirs\n",
        "\n",
        "# SKLearn Imports\n",
        "from sklearn import metrics\n",
        "from sklearn.model_selection import train_test_split\n",
        "from sklearn.preprocessing import StandardScaler, PolynomialFeatures,RobustScaler\n",
        "\n",
        "# Imbalanced Learn\n",
        "from imblearn.over_sampling import *\n",
        "import seaborn as sns\n",
        "\n",
        "import matplotlib.pyplot as plt\n",
        "import seaborn as sns"
      ],
      "metadata": {
        "id": "kNjC1VPlI4hJ"
      },
      "execution_count": null,
      "outputs": []
    },
    {
      "cell_type": "markdown",
      "source": [
        "# **Constants**"
      ],
      "metadata": {
        "id": "DaB5dR3QJCXo"
      }
    },
    {
      "cell_type": "code",
      "source": [
        "# File Constants\n",
        "CSV_URL = \"https://res.cloudinary.com/ddfaksud1/raw/upload/v1719156345/Final%20Year%20Project/Diabetes-data.csv\"\n",
        "LOCAL_CSV_NAME = \"diabetes.csv\"\n",
        "\n",
        "# Training - Testing Constants\n",
        "TEST_SIZE = 0.2\n",
        "\n",
        "# Data Transormation Constants\n",
        "OVERSAMPLING_STRATEGY = \"minority\"\n",
        "OVERSAMPLING_RANDOM_STATE = random.randint(1,100)\n",
        "\n",
        "# Model Constants\n",
        "SVM_KERNEL = \"linear\"\n",
        "SVM_RANDOM_STATE = 0\n",
        "LOGISTIC_REGRESSION_RANDOM_STATE = 0\n",
        "KNN_NUM_NEIGHBOURS = 5\n",
        "KNN_METRIC = \"minkowski\"\n",
        "KNN_POWER_PARAMETER = 2"
      ],
      "metadata": {
        "id": "1jIu81qfJERM"
      },
      "execution_count": null,
      "outputs": []
    },
    {
      "cell_type": "markdown",
      "source": [
        "# **Presets**"
      ],
      "metadata": {
        "id": "4p-eExAEJMv0"
      }
    },
    {
      "cell_type": "code",
      "source": [
        "model_summary = {}\n",
        "logs = {}"
      ],
      "metadata": {
        "id": "sbDjelocJPA_"
      },
      "execution_count": null,
      "outputs": []
    },
    {
      "cell_type": "markdown",
      "source": [
        "# **Download CSV File**"
      ],
      "metadata": {
        "id": "29kN1RY0JXWv"
      }
    },
    {
      "cell_type": "code",
      "source": [
        "def download_csv_file():\n",
        "  with requests.get(CSV_URL, stream=True) as response:\n",
        "    with open(LOCAL_CSV_NAME, 'wb') as file:\n",
        "            for chunk in response.iter_content(chunk_size=8192):\n",
        "                file.write(chunk)\n",
        "\n",
        "download_csv_file()"
      ],
      "metadata": {
        "id": "BZJ1y6kNJZT_"
      },
      "execution_count": null,
      "outputs": []
    },
    {
      "cell_type": "markdown",
      "source": [
        "# **Local Setup**"
      ],
      "metadata": {
        "id": "ELvrgGOAJhj0"
      }
    },
    {
      "cell_type": "code",
      "source": [
        "makedirs(\"BackendAssets\",exist_ok=True)\n",
        "makedirs(\"BackendAssets/Models\",exist_ok=True)\n",
        "makedirs(\"BackendAssets/DataInsights\",exist_ok=True)"
      ],
      "metadata": {
        "id": "IALGcbczJjkj"
      },
      "execution_count": null,
      "outputs": []
    },
    {
      "cell_type": "markdown",
      "source": [
        "# **Reading the CSV**"
      ],
      "metadata": {
        "id": "1WIerRAWKRj1"
      }
    },
    {
      "cell_type": "code",
      "source": [
        "df = pd.read_csv(LOCAL_CSV_NAME).sample(frac=1)\n",
        "print(df.head(1))\n",
        "print(len(df[df[\"diabetes\"] == 1]))\n",
        "print(len(df[df[\"diabetes\"] == 0]))"
      ],
      "metadata": {
        "id": "kt1OVCHOKTdB",
        "colab": {
          "base_uri": "https://localhost:8080/"
        },
        "outputId": "09fce54a-12f1-4980-857b-954199d6a310"
      },
      "execution_count": null,
      "outputs": [
        {
          "output_type": "stream",
          "name": "stdout",
          "text": [
            "      gender   age  hypertension  heart_disease smoking_history    bmi  \\\n",
            "74298   Male  41.0             0              0         No Info  27.32   \n",
            "\n",
            "       HbA1c_level  blood_glucose_level  diabetes  \n",
            "74298          5.8                  100         0  \n",
            "8500\n",
            "91500\n"
          ]
        }
      ]
    },
    {
      "cell_type": "markdown",
      "source": [
        "# **Data Transformation**"
      ],
      "metadata": {
        "id": "deh0F-BbecJd"
      }
    },
    {
      "cell_type": "code",
      "source": [
        "df['smoking_history'] = df['smoking_history'].apply(\n",
        "    lambda x: 0 if x == 'never' else\n",
        "              1 if x == 'No Info' else\n",
        "              2 if x == 'current' else\n",
        "              3 if x == 'former' else\n",
        "              4 if x == 'not current' else 5)\n",
        "\n",
        "df['gender'] = df['gender'].apply(\n",
        "    lambda x: 0 if x == 'Male' else\n",
        "              1 if x=='Female' else 2)"
      ],
      "metadata": {
        "id": "B-wKJ2lLed49"
      },
      "execution_count": null,
      "outputs": []
    },
    {
      "cell_type": "markdown",
      "source": [
        "# **Correlation Matrix**"
      ],
      "metadata": {
        "id": "qbwFWng5c3cD"
      }
    },
    {
      "cell_type": "code",
      "source": [
        "plt.figure(figsize=(15,10))\n",
        "sns.heatmap(df.corr(),linewidth=.01,annot=True,cmap=\"winter\")\n",
        "plt.savefig(\"BackendAssets/DataInsights/CorrelationMatrix.png\")\n",
        "plt.show()"
      ],
      "metadata": {
        "id": "sVkNJKiMc63x"
      },
      "execution_count": null,
      "outputs": []
    },
    {
      "cell_type": "markdown",
      "source": [
        "# **Train-Test Split + Oversampling**"
      ],
      "metadata": {
        "id": "hIq5krnJvzY7"
      }
    },
    {
      "cell_type": "code",
      "source": [
        "# Extracting the Dependent and Indpendent features\n",
        "X = df.drop(columns=\"diabetes\", axis=1)\n",
        "Y = df[\"diabetes\"]\n",
        "\n",
        "# Scaling the Data\n",
        "scaler = StandardScaler()\n",
        "scaler.fit(X)\n",
        "X = scaler.transform(X)\n",
        "\n",
        "# Train-Test Split\n",
        "x_train, x_test,y_train, y_test = train_test_split(\n",
        "  X, Y, test_size=TEST_SIZE, stratify=Y\n",
        ")\n",
        "\n",
        "# Oversampling\n",
        "ros = SMOTE(sampling_strategy=OVERSAMPLING_STRATEGY,random_state=OVERSAMPLING_RANDOM_STATE)\n",
        "x_train,y_train = ros.fit_resample(x_train,y_train)"
      ],
      "metadata": {
        "id": "Ysb6ehfyvwuV"
      },
      "execution_count": null,
      "outputs": []
    },
    {
      "cell_type": "markdown",
      "source": [
        "# **Model Class**"
      ],
      "metadata": {
        "id": "9TN98hKKxJm4"
      }
    },
    {
      "cell_type": "code",
      "source": [
        "class ClassifierModel:\n",
        "  def __init__(self,model,name):\n",
        "    self.model_instance = model\n",
        "    self.model_name = name\n",
        "    self.prepare_model()\n",
        "    self.calculate_metrics()\n",
        "    self.log_model_insights()\n",
        "    self.save_model()\n",
        "\n",
        "  def prepare_model(self):\n",
        "    self.model_instance.fit(x_train,np.ravel(y_train))\n",
        "    self.y_pred = self.model_instance.predict(x_test)\n",
        "\n",
        "\n",
        "\n",
        "  def calculate_metrics(self):\n",
        "    self.accuracy = metrics.accuracy_score(y_test,self.y_pred) * 100\n",
        "    self.confusion_matrix = metrics.confusion_matrix(y_test,self.y_pred)\n",
        "\n",
        "\n",
        "  def log_model_insights(self):\n",
        "    model_summary[self.model_name] = {\n",
        "      \"model\": self.model_instance,\n",
        "      \"accuracy\":self.accuracy,\n",
        "      \"confusion_matrix\":self.confusion_matrix.tolist()\n",
        "    }\n",
        "\n",
        "  def save_model(self):\n",
        "    with open(f'BackendAssets/Models/{self.model_name.replace(\" \",\"_\")}.pkl',\"wb\") as file:\n",
        "      pickle.dump(self.model_instance,file)"
      ],
      "metadata": {
        "id": "FcOtrAwuxM6U"
      },
      "execution_count": null,
      "outputs": []
    },
    {
      "cell_type": "markdown",
      "source": [
        "# **Models**"
      ],
      "metadata": {
        "id": "VqmT8PsXxbC0"
      }
    },
    {
      "cell_type": "code",
      "source": [
        "from sklearn.svm import SVC\n",
        "from sklearn.linear_model import LogisticRegression\n",
        "from sklearn.ensemble import RandomForestClassifier\n",
        "from sklearn.naive_bayes import GaussianNB\n",
        "from sklearn.neighbors import KNeighborsClassifier\n",
        "from sklearn.tree import DecisionTreeClassifier\n",
        "\n",
        "svm_model = ClassifierModel(model = SVC(kernel=SVM_KERNEL,random_state=SVM_RANDOM_STATE),name = \"SVM\")\n",
        "lr_model = ClassifierModel(model = LogisticRegression(random_state=LOGISTIC_REGRESSION_RANDOM_STATE),name = \"Logistic Regression\")\n",
        "rfc_model = ClassifierModel(model = RandomForestClassifier(),name = \"Random Forest\")\n",
        "gnb_model = ClassifierModel(model = GaussianNB(),name = \"Gaussian Naive Bayes\")\n",
        "knn_model = ClassifierModel(model = KNeighborsClassifier(n_neighbors=KNN_NUM_NEIGHBOURS,metric=KNN_METRIC,p=KNN_POWER_PARAMETER),name = \"KNN\")\n",
        "dt_model = ClassifierModel(model = DecisionTreeClassifier(),name = \"Decision Tree\")"
      ],
      "metadata": {
        "id": "j1zBC1ZIxg58"
      },
      "execution_count": null,
      "outputs": []
    },
    {
      "cell_type": "code",
      "source": [
        "model_summary"
      ],
      "metadata": {
        "colab": {
          "base_uri": "https://localhost:8080/"
        },
        "id": "cMA0w1lt0jdr",
        "outputId": "b74d09fc-0d95-48d3-e467-31ea56915acc"
      },
      "execution_count": null,
      "outputs": [
        {
          "output_type": "execute_result",
          "data": {
            "text/plain": [
              "{'SVM': {'model': SVC(kernel='linear', random_state=0),\n",
              "  'accuracy': 88.505,\n",
              "  'confusion_matrix': [[16199, 2101], [198, 1502]]},\n",
              " 'Logistic Regression': {'model': LogisticRegression(random_state=0),\n",
              "  'accuracy': 88.545,\n",
              "  'confusion_matrix': [[16212, 2088], [203, 1497]]},\n",
              " 'Random Forest': {'model': RandomForestClassifier(),\n",
              "  'accuracy': 95.985,\n",
              "  'confusion_matrix': [[17941, 359], [444, 1256]]},\n",
              " 'Gaussian Naive Bayes': {'model': GaussianNB(),\n",
              "  'accuracy': 88.675,\n",
              "  'confusion_matrix': [[16427, 1873], [392, 1308]]},\n",
              " 'KNN': {'model': KNeighborsClassifier(),\n",
              "  'accuracy': 91.295,\n",
              "  'confusion_matrix': [[16879, 1421], [320, 1380]]},\n",
              " 'Decision Tree': {'model': DecisionTreeClassifier(),\n",
              "  'accuracy': 94.66,\n",
              "  'confusion_matrix': [[17663, 637], [431, 1269]]}}"
            ]
          },
          "metadata": {},
          "execution_count": 12
        }
      ]
    },
    {
      "cell_type": "markdown",
      "source": [
        "# **Logging**"
      ],
      "metadata": {
        "id": "ZdhP6Wtu9KaX"
      }
    },
    {
      "cell_type": "code",
      "source": [
        "# Logging the Basic Insights of the whole Training Process\n",
        "\n",
        "logs[\"Test_size\"] = 0.2\n",
        "logs[\"Oversampling_strategy\"] = OVERSAMPLING_STRATEGY\n",
        "logs[\"Oversampling_random_state\"] = OVERSAMPLING_RANDOM_STATE\n",
        "\n",
        "logs[\"SVM\"] = {}\n",
        "logs[\"SVM\"][\"Kernel\"] = SVM_KERNEL\n",
        "logs[\"SVM\"][\"Random_State\"] = SVM_RANDOM_STATE\n",
        "\n",
        "logs[\"Logistic Regression\"] = {}\n",
        "logs[\"Logistic Regression\"][\"Random_State\"] = LOGISTIC_REGRESSION_RANDOM_STATE\n",
        "\n",
        "logs[\"KNN\"] = {}\n",
        "logs[\"KNN\"][\"Num_Neighbours\"] = KNN_NUM_NEIGHBOURS\n",
        "logs[\"KNN\"][\"Metric\"] = KNN_METRIC\n",
        "logs[\"KNN\"][\"Power_Parameter\"] = KNN_POWER_PARAMETER"
      ],
      "metadata": {
        "id": "g9VFyM-A9MtP"
      },
      "execution_count": null,
      "outputs": []
    },
    {
      "cell_type": "markdown",
      "source": [
        "# **Testing the Category Based Accuracy**"
      ],
      "metadata": {
        "id": "gbi371DY87zo"
      }
    },
    {
      "cell_type": "code",
      "source": [
        "def test_category_based_accuracy_of_model(category,model):\n",
        "  cnt = 0\n",
        "  filtered_test_set = x_test[y_test == category]\n",
        "  for test_set in filtered_test_set:\n",
        "    if int(model.predict([test_set])[0]) == category:\n",
        "      cnt += 1\n",
        "  return (cnt/len(filtered_test_set)) * 100"
      ],
      "metadata": {
        "id": "bxbn48lv_Y0c"
      },
      "execution_count": null,
      "outputs": []
    },
    {
      "cell_type": "code",
      "source": [
        "models = list(model_summary.keys())\n",
        "\n",
        "for model in models:\n",
        "  zero_acc = test_category_based_accuracy_of_model(0,model_summary[model][\"model\"])\n",
        "  one_acc = test_category_based_accuracy_of_model(1,model_summary[model][\"model\"])\n",
        "\n",
        "  model_summary[model][\"0_accuracy\"] = zero_acc\n",
        "  model_summary[model][\"1_accuracy\"] = one_acc\n",
        "\n",
        "print(model_summary)\n"
      ],
      "metadata": {
        "colab": {
          "base_uri": "https://localhost:8080/"
        },
        "id": "Mkhjs8OB866F",
        "outputId": "efc4d3bf-948f-4f83-8d55-7bf698b6d6c6"
      },
      "execution_count": null,
      "outputs": [
        {
          "output_type": "stream",
          "name": "stdout",
          "text": [
            "{'SVM': {'model': SVC(kernel='linear', random_state=0), 'accuracy': 88.505, 'confusion_matrix': [[16199, 2101], [198, 1502]], '0_accuracy': 88.51912568306011, '1_accuracy': 88.3529411764706}, 'Logistic Regression': {'model': LogisticRegression(random_state=0), 'accuracy': 88.545, 'confusion_matrix': [[16212, 2088], [203, 1497]], '0_accuracy': 88.59016393442623, '1_accuracy': 88.05882352941177}, 'Random Forest': {'model': RandomForestClassifier(), 'accuracy': 95.985, 'confusion_matrix': [[17941, 359], [444, 1256]], '0_accuracy': 98.03825136612022, '1_accuracy': 73.88235294117646}, 'Gaussian Naive Bayes': {'model': GaussianNB(), 'accuracy': 88.675, 'confusion_matrix': [[16427, 1873], [392, 1308]], '0_accuracy': 89.76502732240436, '1_accuracy': 76.94117647058823}, 'KNN': {'model': KNeighborsClassifier(), 'accuracy': 91.295, 'confusion_matrix': [[16879, 1421], [320, 1380]], '0_accuracy': 92.23497267759562, '1_accuracy': 81.17647058823529}, 'Decision Tree': {'model': DecisionTreeClassifier(), 'accuracy': 94.66, 'confusion_matrix': [[17663, 637], [431, 1269]], '0_accuracy': 96.51912568306011, '1_accuracy': 74.6470588235294}}\n"
          ]
        }
      ]
    },
    {
      "cell_type": "markdown",
      "source": [
        "# **Dumping all the Insights**"
      ],
      "metadata": {
        "id": "b2LCqF0gBolb"
      }
    },
    {
      "cell_type": "code",
      "source": [
        "with open(\"BackendAssets/logs.json\",'w') as fp:\n",
        "  fp.write(json.dumps(logs))\n",
        "\n",
        "with open(\"BackendAssets/models.json\",'w') as fp:\n",
        "  model_summary_writable = {}\n",
        "  models = list(model_summary.keys())\n",
        "  for model in models:\n",
        "    model_summary_writable[model] = {\n",
        "        \"accuracy\":model_summary[model][\"accuracy\"],\n",
        "        \"confusion_matrix\":model_summary[model][\"confusion_matrix\"],\n",
        "        '0_accuracy' : model_summary[model][\"0_accuracy\"],\n",
        "        '1_accuracy' : model_summary[model][\"1_accuracy\"]\n",
        "    }\n",
        "\n",
        "  fp.write(json.dumps(model_summary_writable))"
      ],
      "metadata": {
        "id": "Lw-mlGzBBwgc"
      },
      "execution_count": null,
      "outputs": []
    },
    {
      "cell_type": "code",
      "source": [
        "test_vector()"
      ],
      "metadata": {
        "id": "oIqq-bllis81"
      },
      "execution_count": null,
      "outputs": []
    }
  ]
}